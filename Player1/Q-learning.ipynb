{
 "cells": [
  {
   "cell_type": "code",
   "execution_count": 1,
   "metadata": {},
   "outputs": [],
   "source": [
    "import random\n",
    "\n",
    "from environment import Environment\n",
    "from agent import Agent\n",
    "import pickle\n",
    "\n",
    "def random_agent_performance(secret='1234'):\n",
    "    '''return num of guesses needed to get secret for an random agent'''\n",
    "    random_agent = Agent()\n",
    "    random_agent.reset_possible_states()\n",
    "    guess = random_agent.get_best_action()\n",
    "    env = Environment(secret)\n",
    "    num_guess = 1\n",
    "    while guess!= secret:\n",
    "        random_agent.possible_states.remove(guess)\n",
    "        guess = random_agent.get_best_action()\n",
    "        num_guess += 1\n",
    "    return num_guess\n",
    "\n",
    "\n",
    "def random_agent_average_performance(num):\n",
    "    l = []\n",
    "    for _ in range(num):\n",
    "        secret = Environment._number_from_index(random.randint(0,9**4-1))\n",
    "        length = random_agent_performance(secret)\n",
    "        l.append(length)\n",
    "    return sum(l)/len(l)\n",
    "\n",
    "\n",
    "def train(agent, n_episodes):\n",
    "    '''\n",
    "    Train the agent for n_episodes.\n",
    "    '''\n",
    "    for _ in range(n_episodes):\n",
    "        secret = Environment._number_from_index(random.randint(0,9**4-1))\n",
    "        env = Environment(secret)\n",
    "        agent.reset_possible_states()\n",
    "        action = agent.random_action()  # init action\n",
    "        \n",
    "        if action == secret: # if init guess is crt skip this episode\n",
    "            continue\n",
    "            \n",
    "        run = True\n",
    "        while run:\n",
    "            feedback = env.get_feedback(action)\n",
    "            reward   = env.reward(action)\n",
    "            agent.learn_from_move(action, feedback, reward)\n",
    "            \n",
    "            if action == secret:\n",
    "                break  # correct guess stop episode\n",
    "            else:\n",
    "                action = agent.random_action()  # else next guess\n",
    "\n",
    "                \n",
    "def num_guesses(agent, secret='1234'):\n",
    "    '''return number of guesses needed by the agent to\n",
    "    get to the secret'''\n",
    "    agent.reset_possible_states()\n",
    "    guess = agent.get_best_action()\n",
    "    env = Environment(secret)\n",
    "    num_guess = 1\n",
    "    while guess!= secret:\n",
    "        feedback = env.score(secret, guess)\n",
    "        agent.restrict_possible_states(guess, feedback)\n",
    "        guess = agent.get_best_action()\n",
    "        num_guess += 1\n",
    "    return num_guess\n",
    "\n",
    "\n",
    "def avg_num_guesses_needed(agent):\n",
    "    '''average number guesses needed for all the possible secret codes'''\n",
    "    \n",
    "    nums = [] \n",
    "    \n",
    "    for idx in range(9**4):\n",
    "        secret = Environment._number_from_index(idx)\n",
    "        length = num_guesses(agent, secret)\n",
    "        nums.append(length)\n",
    "        \n",
    "#     print(nums)\n",
    "    return sum(nums)/len(nums)\n",
    "    6\n",
    "\n",
    "def worst_case_length(agent):\n",
    "    '''num of guesses needed in worst case'''\n",
    "    \n",
    "    nums = [] \n",
    "    \n",
    "    for idx in range(9**4):\n",
    "        secret = Environment._number_from_index(idx)\n",
    "        length = num_guesses(agent, secret)\n",
    "        nums.append(length)\n",
    "        \n",
    "#     print(nums)\n",
    "    return max(nums)\n"
   ]
  },
  {
   "cell_type": "markdown",
   "metadata": {},
   "source": [
    "## baseline performance"
   ]
  },
  {
   "cell_type": "code",
   "execution_count": 2,
   "metadata": {},
   "outputs": [
    {
     "data": {
      "text/plain": [
       "5264.94"
      ]
     },
     "execution_count": 2,
     "metadata": {},
     "output_type": "execute_result"
    }
   ],
   "source": [
    "random_agent_average_performance(50)"
   ]
  },
  {
   "cell_type": "markdown",
   "metadata": {},
   "source": [
    "There are 1296 possibile patterns in the mastermind game. An agent which chooses a random action, takes around ~ **584** guesses to match the target secret code. This random agent does not take feedback into consideration."
   ]
  },
  {
   "cell_type": "markdown",
   "metadata": {},
   "source": [
    "> In 1977, Donald Knuth came up with a Five-guess algorithm which guesses the secret code with 5 guesses. "
   ]
  },
  {
   "cell_type": "markdown",
   "metadata": {},
   "source": [
    "Instead of using random agent, we will try use this Five-guess algorithm to compare the learning of our agent."
   ]
  },
  {
   "cell_type": "markdown",
   "metadata": {},
   "source": [
    "## Training Agent using Q-learning"
   ]
  },
  {
   "cell_type": "markdown",
   "metadata": {},
   "source": [
    "### train for 2000 episodes"
   ]
  },
  {
   "cell_type": "code",
   "execution_count": 3,
   "metadata": {},
   "outputs": [],
   "source": [
    "q_agent = Agent(epsilon=0.2)"
   ]
  },
  {
   "cell_type": "code",
   "execution_count": 4,
   "metadata": {},
   "outputs": [],
   "source": [
    "train(q_agent, 2000)"
   ]
  },
  {
   "cell_type": "code",
   "execution_count": 5,
   "metadata": {},
   "outputs": [],
   "source": [
    "# saving the model for interactive_play notebook\n",
    "with open('learned_q_agent.pkl','wb') as f:\n",
    "    pickle.dump(q_agent, f)"
   ]
  },
  {
   "cell_type": "markdown",
   "metadata": {},
   "source": [
    "## Hyperparameter tuning"
   ]
  },
  {
   "cell_type": "code",
   "execution_count": 18,
   "metadata": {},
   "outputs": [
    {
     "name": "stdout",
     "output_type": "stream",
     "text": [
      "q-learning with epsilon = 0.1 worst case performance = 11\n",
      "q-learning with epsilon = 0.2 worst case performance = 11\n",
      "q-learning with epsilon = 0.5 worst case performance = 11\n",
      "q-learning with epsilon = 0.7 worst case performance = 11\n"
     ]
    }
   ],
   "source": [
    "for epsilon in [0.1, 0.2, 0.5, 0.7]:\n",
    "    q_agent = Agent(epsilon=epsilon)\n",
    "    train(q_agent,2000)\n",
    "    wc_perf = worst_case_length(q_agent)\n",
    "    print(f'q-learning with epsilon = {epsilon} worst case performance = {wc_perf}')"
   ]
  },
  {
   "cell_type": "markdown",
   "metadata": {},
   "source": [
    "We select epsilon = 0.2 based on the hyperparameter tuning here."
   ]
  },
  {
   "cell_type": "markdown",
   "metadata": {},
   "source": [
    "## Multiple Algorithms"
   ]
  },
  {
   "cell_type": "markdown",
   "metadata": {},
   "source": [
    "Along with Q-learning, Policy gradient method was also experimented. Enivonment and neural network for the policy gradient method can be found in the [Policy-gradient](Policy-gradient.ipynb) notebook.\n",
    "\n",
    "It was observed learning in case of policy gradient method to be very slow. In order to capture the temporal aspect between the different patterns in the game, an LSTM model was chosen to learn on the embeddings of guesses. This meant simulating more data, leading to slow.\n",
    "\n",
    "Future idea to make Policy gradient faster:\n",
    "1. Parallelize the learning process.\n",
    "2. Use GRU instead of LSTM.\n",
    "3. Simulate the data efficiently.\n",
    "4. Decrease the size of embedding of state and action vectors.\n",
    "\n",
    "Keeping the timeline in mind efforts were focussed on Q-learning due it's speed and ease of implementation."
   ]
  },
  {
   "cell_type": "markdown",
   "metadata": {},
   "source": [
    "## Results"
   ]
  },
  {
   "cell_type": "markdown",
   "metadata": {},
   "source": [
    "Q-learning algorithm seems to get closer to the popular 5-guess algorithm by Donlad knuth. "
   ]
  },
  {
   "cell_type": "code",
   "execution_count": 25,
   "metadata": {},
   "outputs": [
    {
     "data": {
      "image/png": "[encoded data removed]",
      "text/plain": [
       "<Figure size 640x480 with 1 Axes>"
      ]
     },
     "metadata": {},
     "output_type": "display_data"
    }
   ],
   "source": [
    "import matplotlib.pyplot as plt \n",
    "plt.bar(x=['5-guess','Q-learning agent'], height=[5,7])\n",
    "_ = plt.ylabel('worst case number of guesses')"
   ]
  },
  {
   "cell_type": "markdown",
   "metadata": {},
   "source": [
    "## Interpretation of results"
   ]
  },
  {
   "cell_type": "markdown",
   "metadata": {},
   "source": [
    "Initially Q-learning algorithm was unstable without restricting the number of states based on the feedback obtained during the game. This is due to the dynamic environment in case of mastermind. The Environment, feedback and the reward depends on the random secret code selected at the start of the game.\n",
    "\n",
    "But when state space is restricted State-values learnt by the Q-learning algorithm look to be stable. "
   ]
  },
  {
   "cell_type": "markdown",
   "metadata": {},
   "source": [
    "## Future directions"
   ]
  },
  {
   "cell_type": "markdown",
   "metadata": {},
   "source": [
    "Q-learning:\n",
    "\n",
    "1. Alternative representation of action. Action can be represented using different colors at the 4 positions based on the previous guesses and feedbacks.\n",
    "2. Learn another Q-learning agent to select the secret code to make the learrning faster for the code breaking Q-learning agent.\n",
    "3. Double Q_learning to reduce the maximisation bias and speed up Q-Learning."
   ]
  },
  {
   "cell_type": "markdown",
   "metadata": {},
   "source": [
    "Policy Gradient:\n",
    "\n",
    "1. Parallelize the learning process and use GPU.\n",
    "2. Use GRU instead of LSTM.\n"
   ]
  },
  {
   "cell_type": "markdown",
   "metadata": {},
   "source": [
    "## References"
   ]
  },
  {
   "cell_type": "markdown",
   "metadata": {},
   "source": [
    "1. https://github.com/egeromin/mastermind/\n",
    "2. https://github.com/brianspiering/rl-course/tree/master/labs/lab_4_tic_tac_toe\n",
    "3. https://ieeexplore.ieee.org/document/7926576\n",
    "4. researchgate.net/publication/316947563_Playing_Mastermind_Game_by_Using_Reinforcement_Learning\n",
    "1. https://en.wikipedia.org/wiki/Mastermind_(board_game)"
   ]
  }
 ],
 "metadata": {
  "kernelspec": {
   "display_name": "Python 3 (ipykernel)",
   "language": "python",
   "name": "python3"
  },
  "language_info": {
   "codemirror_mode": {
    "name": "ipython",
    "version": 3
   },
   "file_extension": ".py",
   "mimetype": "text/x-python",
   "name": "python",
   "nbconvert_exporter": "python",
   "pygments_lexer": "ipython3",
   "version": "3.11.5"
  }
 },
 "nbformat": 4,
 "nbformat_minor": 4
}
